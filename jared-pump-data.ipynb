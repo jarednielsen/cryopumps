{
 "cells": [
  {
   "cell_type": "code",
   "execution_count": 71,
   "metadata": {},
   "outputs": [],
   "source": [
    "from datetime import datetime\n",
    "from matplotlib import pyplot as plt\n",
    "import numpy as np\n",
    "import pandas as pd"
   ]
  },
  {
   "cell_type": "code",
   "execution_count": null,
   "metadata": {},
   "outputs": [],
   "source": []
  },
  {
   "cell_type": "code",
   "execution_count": 58,
   "metadata": {},
   "outputs": [
    {
     "name": "stdout",
     "output_type": "stream",
     "text": [
      "Shape: (1218368, 39)\n"
     ]
    }
   ],
   "source": [
    "url = \"pump_data.csv\"\n",
    "dtype = {\n",
    "    \"unitsequence\": int,\n",
    "    \"uppervalue\": float,\n",
    "    \"lowervalue\": float,\n",
    "    \"rotorspeed\": float,\n",
    "    \"motortemp\": float,\n",
    "    \"controllertemp\": float,\n",
    "    \"dcvoltage\": float,\n",
    "    \"motorcurrent\": float,\n",
    "    \"rotorposition0\": str,\n",
    "    \"rotorposition1\": str,\n",
    "    \"rotorposition2\": str,\n",
    "    \"rotorposition3\": str,\n",
    "    \"rotorposition4\": str,\n",
    "    \"magcurrent0\": float,\n",
    "    \"magcurrent1\": float,\n",
    "    \"magcurrent2\": float,\n",
    "    \"magcurrent3\": float,\n",
    "    \"magcurrent4\": float,\n",
    "    \"magcurrent5\": float,\n",
    "    \"magcurrent6\": float,\n",
    "    \"magcurrent7\": float,\n",
    "    \"magcurrent8\": float,\n",
    "    \"magcurrent9\": float,\n",
    "    \"sumcurrents\": float,\n",
    "    \"tmsactualtemp\": float,\n",
    "    \"yh\": str,\n",
    "    \"yb\": str,\n",
    "    \"z\": float,\n",
    "    \"motorspeed\": str,\n",
    "    \"temp1\": str,\n",
    "    \"temp2\": str,\n",
    "    \"heater1\": str,\n",
    "    \"heater2\": str,\n",
    "    \"tcpressure\": str,\n",
    "    \"timestamp\": str,\n",
    "    \"currentregen\": str,\n",
    "    \"alarmstatusbits\": str,\n",
    "    \"alertstatusbits\": str,\n",
    "    \"valvestate\": str\n",
    "}\n",
    "parse_dates = ['timestamp']\n",
    "x = pd.read_csv(url, dtype=dtype, parse_dates=parse_dates)\n",
    "print(\"Shape:\", x.shape)"
   ]
  },
  {
   "cell_type": "code",
   "execution_count": 91,
   "metadata": {},
   "outputs": [
    {
     "data": {
      "text/html": [
       "<div>\n",
       "<style scoped>\n",
       "    .dataframe tbody tr th:only-of-type {\n",
       "        vertical-align: middle;\n",
       "    }\n",
       "\n",
       "    .dataframe tbody tr th {\n",
       "        vertical-align: top;\n",
       "    }\n",
       "\n",
       "    .dataframe thead th {\n",
       "        text-align: right;\n",
       "    }\n",
       "</style>\n",
       "<table border=\"1\" class=\"dataframe\">\n",
       "  <thead>\n",
       "    <tr style=\"text-align: right;\">\n",
       "      <th></th>\n",
       "      <th>unitsequence</th>\n",
       "      <th>uppervalue</th>\n",
       "      <th>lowervalue</th>\n",
       "      <th>rotorspeed</th>\n",
       "      <th>motortemp</th>\n",
       "      <th>controllertemp</th>\n",
       "      <th>dcvoltage</th>\n",
       "      <th>motorcurrent</th>\n",
       "      <th>rotorposition0</th>\n",
       "      <th>rotorposition1</th>\n",
       "      <th>...</th>\n",
       "      <th>temp1</th>\n",
       "      <th>temp2</th>\n",
       "      <th>heater1</th>\n",
       "      <th>heater2</th>\n",
       "      <th>tcpressure</th>\n",
       "      <th>timestamp</th>\n",
       "      <th>currentregen</th>\n",
       "      <th>alarmstatusbits</th>\n",
       "      <th>alertstatusbits</th>\n",
       "      <th>valvestate</th>\n",
       "    </tr>\n",
       "  </thead>\n",
       "  <tbody>\n",
       "    <tr>\n",
       "      <th>0</th>\n",
       "      <td>-18202</td>\n",
       "      <td>9.6</td>\n",
       "      <td>7.4</td>\n",
       "      <td>454.0</td>\n",
       "      <td>59.0</td>\n",
       "      <td>35.0</td>\n",
       "      <td>139.0</td>\n",
       "      <td>2.0</td>\n",
       "      <td>NaN</td>\n",
       "      <td>NaN</td>\n",
       "      <td>...</td>\n",
       "      <td>NaN</td>\n",
       "      <td>NaN</td>\n",
       "      <td>NaN</td>\n",
       "      <td>NaN</td>\n",
       "      <td>NaN</td>\n",
       "      <td>2017-12-14 08:29:30.376350</td>\n",
       "      <td>NaN</td>\n",
       "      <td>NaN</td>\n",
       "      <td>NaN</td>\n",
       "      <td>NaN</td>\n",
       "    </tr>\n",
       "    <tr>\n",
       "      <th>1</th>\n",
       "      <td>-18202</td>\n",
       "      <td>0.1</td>\n",
       "      <td>0.5</td>\n",
       "      <td>20.0</td>\n",
       "      <td>34.0</td>\n",
       "      <td>38.0</td>\n",
       "      <td>106.0</td>\n",
       "      <td>7.0</td>\n",
       "      <td>NaN</td>\n",
       "      <td>NaN</td>\n",
       "      <td>...</td>\n",
       "      <td>NaN</td>\n",
       "      <td>NaN</td>\n",
       "      <td>NaN</td>\n",
       "      <td>NaN</td>\n",
       "      <td>NaN</td>\n",
       "      <td>2017-12-22 08:23:45.667057</td>\n",
       "      <td>NaN</td>\n",
       "      <td>NaN</td>\n",
       "      <td>NaN</td>\n",
       "      <td>NaN</td>\n",
       "    </tr>\n",
       "    <tr>\n",
       "      <th>2</th>\n",
       "      <td>-18202</td>\n",
       "      <td>0.1</td>\n",
       "      <td>0.5</td>\n",
       "      <td>19.0</td>\n",
       "      <td>34.0</td>\n",
       "      <td>38.0</td>\n",
       "      <td>106.0</td>\n",
       "      <td>7.0</td>\n",
       "      <td>NaN</td>\n",
       "      <td>NaN</td>\n",
       "      <td>...</td>\n",
       "      <td>NaN</td>\n",
       "      <td>NaN</td>\n",
       "      <td>NaN</td>\n",
       "      <td>NaN</td>\n",
       "      <td>NaN</td>\n",
       "      <td>2017-12-22 08:23:46.827219</td>\n",
       "      <td>NaN</td>\n",
       "      <td>NaN</td>\n",
       "      <td>NaN</td>\n",
       "      <td>NaN</td>\n",
       "    </tr>\n",
       "    <tr>\n",
       "      <th>3</th>\n",
       "      <td>-18202</td>\n",
       "      <td>0.2</td>\n",
       "      <td>0.5</td>\n",
       "      <td>18.0</td>\n",
       "      <td>34.0</td>\n",
       "      <td>38.0</td>\n",
       "      <td>106.0</td>\n",
       "      <td>7.0</td>\n",
       "      <td>NaN</td>\n",
       "      <td>NaN</td>\n",
       "      <td>...</td>\n",
       "      <td>NaN</td>\n",
       "      <td>NaN</td>\n",
       "      <td>NaN</td>\n",
       "      <td>NaN</td>\n",
       "      <td>NaN</td>\n",
       "      <td>2017-12-22 08:23:47.976902</td>\n",
       "      <td>NaN</td>\n",
       "      <td>NaN</td>\n",
       "      <td>NaN</td>\n",
       "      <td>NaN</td>\n",
       "    </tr>\n",
       "    <tr>\n",
       "      <th>4</th>\n",
       "      <td>-18202</td>\n",
       "      <td>0.1</td>\n",
       "      <td>0.5</td>\n",
       "      <td>17.0</td>\n",
       "      <td>34.0</td>\n",
       "      <td>38.0</td>\n",
       "      <td>106.0</td>\n",
       "      <td>7.0</td>\n",
       "      <td>NaN</td>\n",
       "      <td>NaN</td>\n",
       "      <td>...</td>\n",
       "      <td>NaN</td>\n",
       "      <td>NaN</td>\n",
       "      <td>NaN</td>\n",
       "      <td>NaN</td>\n",
       "      <td>NaN</td>\n",
       "      <td>2017-12-22 08:23:49.116823</td>\n",
       "      <td>NaN</td>\n",
       "      <td>NaN</td>\n",
       "      <td>NaN</td>\n",
       "      <td>NaN</td>\n",
       "    </tr>\n",
       "  </tbody>\n",
       "</table>\n",
       "<p>5 rows × 39 columns</p>\n",
       "</div>"
      ],
      "text/plain": [
       "   unitsequence  uppervalue  lowervalue  rotorspeed  motortemp  \\\n",
       "0        -18202         9.6         7.4       454.0       59.0   \n",
       "1        -18202         0.1         0.5        20.0       34.0   \n",
       "2        -18202         0.1         0.5        19.0       34.0   \n",
       "3        -18202         0.2         0.5        18.0       34.0   \n",
       "4        -18202         0.1         0.5        17.0       34.0   \n",
       "\n",
       "   controllertemp  dcvoltage  motorcurrent rotorposition0 rotorposition1  \\\n",
       "0            35.0      139.0           2.0            NaN            NaN   \n",
       "1            38.0      106.0           7.0            NaN            NaN   \n",
       "2            38.0      106.0           7.0            NaN            NaN   \n",
       "3            38.0      106.0           7.0            NaN            NaN   \n",
       "4            38.0      106.0           7.0            NaN            NaN   \n",
       "\n",
       "      ...     temp1 temp2 heater1  heater2  tcpressure  \\\n",
       "0     ...       NaN   NaN     NaN      NaN         NaN   \n",
       "1     ...       NaN   NaN     NaN      NaN         NaN   \n",
       "2     ...       NaN   NaN     NaN      NaN         NaN   \n",
       "3     ...       NaN   NaN     NaN      NaN         NaN   \n",
       "4     ...       NaN   NaN     NaN      NaN         NaN   \n",
       "\n",
       "                   timestamp  currentregen  alarmstatusbits  alertstatusbits  \\\n",
       "0 2017-12-14 08:29:30.376350           NaN              NaN              NaN   \n",
       "1 2017-12-22 08:23:45.667057           NaN              NaN              NaN   \n",
       "2 2017-12-22 08:23:46.827219           NaN              NaN              NaN   \n",
       "3 2017-12-22 08:23:47.976902           NaN              NaN              NaN   \n",
       "4 2017-12-22 08:23:49.116823           NaN              NaN              NaN   \n",
       "\n",
       "   valvestate  \n",
       "0         NaN  \n",
       "1         NaN  \n",
       "2         NaN  \n",
       "3         NaN  \n",
       "4         NaN  \n",
       "\n",
       "[5 rows x 39 columns]"
      ]
     },
     "execution_count": 91,
     "metadata": {},
     "output_type": "execute_result"
    }
   ],
   "source": [
    "x.head()"
   ]
  },
  {
   "cell_type": "code",
   "execution_count": 36,
   "metadata": {},
   "outputs": [
    {
     "data": {
      "image/png": "[encoded data removed]",
      "text/plain": [
       "<Figure size 432x288 with 1 Axes>"
      ]
     },
     "metadata": {
      "needs_background": "light"
     },
     "output_type": "display_data"
    },
    {
     "name": "stdout",
     "output_type": "stream",
     "text": [
      "unitsequence ranges from -30997 to -9282\n",
      "count ranges from 28 to 198742\n"
     ]
    }
   ],
   "source": [
    "unit_sequences = x[\"unitsequence\"].unique()\n",
    "count = np.array([\n",
    "    x[x['unitsequence']==us].shape[0] for us in unit_sequences\n",
    "])\n",
    "n = len(count)\n",
    "plt.bar(np.arange(n), count)\n",
    "plt.title(\"{} unique `unitsequence`\".format(n))\n",
    "plt.show()\n",
    "print(\"unitsequence ranges from {} to {}\".format(unit_sequences.min(), \n",
    "                                                 unit_sequences.max()))\n",
    "print(\"count ranges from {} to {}\".format(count.min(), count.max()))"
   ]
  },
  {
   "cell_type": "code",
   "execution_count": 97,
   "metadata": {},
   "outputs": [
    {
     "data": {
      "text/html": [
       "<div>\n",
       "<style scoped>\n",
       "    .dataframe tbody tr th:only-of-type {\n",
       "        vertical-align: middle;\n",
       "    }\n",
       "\n",
       "    .dataframe tbody tr th {\n",
       "        vertical-align: top;\n",
       "    }\n",
       "\n",
       "    .dataframe thead th {\n",
       "        text-align: right;\n",
       "    }\n",
       "</style>\n",
       "<table border=\"1\" class=\"dataframe\">\n",
       "  <thead>\n",
       "    <tr style=\"text-align: right;\">\n",
       "      <th></th>\n",
       "      <th>unitsequence</th>\n",
       "      <th>uppervalue</th>\n",
       "      <th>lowervalue</th>\n",
       "      <th>rotorspeed</th>\n",
       "      <th>motortemp</th>\n",
       "      <th>controllertemp</th>\n",
       "      <th>dcvoltage</th>\n",
       "      <th>motorcurrent</th>\n",
       "      <th>timestamp</th>\n",
       "      <th>alarmstatusbits</th>\n",
       "    </tr>\n",
       "  </thead>\n",
       "  <tbody>\n",
       "    <tr>\n",
       "      <th>28</th>\n",
       "      <td>-18200</td>\n",
       "      <td>0.0</td>\n",
       "      <td>0.0</td>\n",
       "      <td>0.0</td>\n",
       "      <td>30.0</td>\n",
       "      <td>31.0</td>\n",
       "      <td>108.0</td>\n",
       "      <td>0.0</td>\n",
       "      <td>2018-01-05 02:21:22.526119</td>\n",
       "      <td>NaN</td>\n",
       "    </tr>\n",
       "    <tr>\n",
       "      <th>29</th>\n",
       "      <td>-18200</td>\n",
       "      <td>0.9</td>\n",
       "      <td>0.9</td>\n",
       "      <td>53.0</td>\n",
       "      <td>33.0</td>\n",
       "      <td>32.0</td>\n",
       "      <td>105.0</td>\n",
       "      <td>11.4</td>\n",
       "      <td>2018-01-05 02:22:27.279240</td>\n",
       "      <td>NaN</td>\n",
       "    </tr>\n",
       "    <tr>\n",
       "      <th>30</th>\n",
       "      <td>-18200</td>\n",
       "      <td>1.5</td>\n",
       "      <td>1.2</td>\n",
       "      <td>113.0</td>\n",
       "      <td>35.0</td>\n",
       "      <td>32.0</td>\n",
       "      <td>104.0</td>\n",
       "      <td>11.4</td>\n",
       "      <td>2018-01-05 02:23:22.810394</td>\n",
       "      <td>NaN</td>\n",
       "    </tr>\n",
       "    <tr>\n",
       "      <th>31</th>\n",
       "      <td>-18200</td>\n",
       "      <td>1.5</td>\n",
       "      <td>1.1</td>\n",
       "      <td>114.0</td>\n",
       "      <td>35.0</td>\n",
       "      <td>32.0</td>\n",
       "      <td>104.0</td>\n",
       "      <td>11.6</td>\n",
       "      <td>2018-01-05 02:23:23.688371</td>\n",
       "      <td>NaN</td>\n",
       "    </tr>\n",
       "    <tr>\n",
       "      <th>32</th>\n",
       "      <td>-18200</td>\n",
       "      <td>1.5</td>\n",
       "      <td>1.2</td>\n",
       "      <td>114.0</td>\n",
       "      <td>35.0</td>\n",
       "      <td>32.0</td>\n",
       "      <td>106.0</td>\n",
       "      <td>6.8</td>\n",
       "      <td>2018-01-05 02:23:24.947600</td>\n",
       "      <td>NaN</td>\n",
       "    </tr>\n",
       "  </tbody>\n",
       "</table>\n",
       "</div>"
      ],
      "text/plain": [
       "    unitsequence  uppervalue  lowervalue  rotorspeed  motortemp  \\\n",
       "28        -18200         0.0         0.0         0.0       30.0   \n",
       "29        -18200         0.9         0.9        53.0       33.0   \n",
       "30        -18200         1.5         1.2       113.0       35.0   \n",
       "31        -18200         1.5         1.1       114.0       35.0   \n",
       "32        -18200         1.5         1.2       114.0       35.0   \n",
       "\n",
       "    controllertemp  dcvoltage  motorcurrent                  timestamp  \\\n",
       "28            31.0      108.0           0.0 2018-01-05 02:21:22.526119   \n",
       "29            32.0      105.0          11.4 2018-01-05 02:22:27.279240   \n",
       "30            32.0      104.0          11.4 2018-01-05 02:23:22.810394   \n",
       "31            32.0      104.0          11.6 2018-01-05 02:23:23.688371   \n",
       "32            32.0      106.0           6.8 2018-01-05 02:23:24.947600   \n",
       "\n",
       "   alarmstatusbits  \n",
       "28             NaN  \n",
       "29             NaN  \n",
       "30             NaN  \n",
       "31             NaN  \n",
       "32             NaN  "
      ]
     },
     "execution_count": 97,
     "metadata": {},
     "output_type": "execute_result"
    }
   ],
   "source": [
    "u_few, u_many = unit_sequences[0:2]\n",
    "df = x[x[\"unitsequence\"] == u_many]\n",
    "cols = [\"unitsequence\",\"uppervalue\",\"lowervalue\",\"rotorspeed\",\"motortemp\",\"controllertemp\",\"dcvoltage\",\"motorcurrent\",\"timestamp\",\"alarmstatusbits\"]\n",
    "df[cols].head()"
   ]
  },
  {
   "cell_type": "code",
   "execution_count": 100,
   "metadata": {
    "scrolled": false
   },
   "outputs": [
    {
     "data": {
      "image/png": "[encoded data removed]",
      "text/plain": [
       "<Figure size 1080x72 with 1 Axes>"
      ]
     },
     "metadata": {
      "needs_background": "light"
     },
     "output_type": "display_data"
    },
    {
     "data": {
      "image/png": "[encoded data removed]",
      "text/plain": [
       "<Figure size 1080x72 with 1 Axes>"
      ]
     },
     "metadata": {
      "needs_background": "light"
     },
     "output_type": "display_data"
    },
    {
     "data": {
      "image/png": "[encoded data removed]",
      "text/plain": [
       "<Figure size 1080x72 with 1 Axes>"
      ]
     },
     "metadata": {
      "needs_background": "light"
     },
     "output_type": "display_data"
    },
    {
     "data": {
      "image/png": "[encoded data removed]",
      "text/plain": [
       "<Figure size 1080x72 with 1 Axes>"
      ]
     },
     "metadata": {
      "needs_background": "light"
     },
     "output_type": "display_data"
    },
    {
     "data": {
      "image/png": "[encoded data removed]",
      "text/plain": [
       "<Figure size 1080x72 with 1 Axes>"
      ]
     },
     "metadata": {
      "needs_background": "light"
     },
     "output_type": "display_data"
    },
    {
     "data": {
      "image/png": "[encoded data removed]",
      "text/plain": [
       "<Figure size 1080x72 with 1 Axes>"
      ]
     },
     "metadata": {
      "needs_background": "light"
     },
     "output_type": "display_data"
    },
    {
     "data": {
      "image/png": "[encoded data removed]",
      "text/plain": [
       "<Figure size 1080x72 with 1 Axes>"
      ]
     },
     "metadata": {
      "needs_background": "light"
     },
     "output_type": "display_data"
    }
   ],
   "source": [
    "def plot_over_time(t,y,desc):\n",
    "    fig = plt.figure(figsize=(15,1))\n",
    "    ax = fig.add_subplot(111)\n",
    "    ax.plot(t, y, 'o')\n",
    "    ax.set_xlabel(\"Time\")\n",
    "    ax.set_ylabel(desc)\n",
    "    ax.set_title(desc)\n",
    "    plt.show()\n",
    "\n",
    "n_timesteps, n_cols = df.shape\n",
    "t = df[\"timestamp\"].values\n",
    "cols = [\"uppervalue\", \"lowervalue\", \"rotorspeed\",\"motortemp\",\"controllertemp\",\"dcvoltage\",\"motorcurrent\"]\n",
    "for col in cols:\n",
    "    plot_over_time(t,df[col].values,col)\n"
   ]
  },
  {
   "cell_type": "code",
   "execution_count": 57,
   "metadata": {},
   "outputs": [
    {
     "name": "stdout",
     "output_type": "stream",
     "text": [
      "alarmstatusbits 0\n",
      "alertstatusbits 0\n",
      "controllertemp 362851\n",
      "currentregen 802716\n",
      "dcvoltage 354296\n",
      "heater1 802716\n",
      "heater2 802716\n",
      "lowervalue 415652\n",
      "magcurrent0 354296\n",
      "magcurrent1 354296\n",
      "magcurrent2 354296\n",
      "magcurrent3 354296\n",
      "magcurrent4 354296\n",
      "magcurrent5 354296\n",
      "magcurrent6 354296\n",
      "magcurrent7 354296\n",
      "magcurrent8 354296\n",
      "magcurrent9 354296\n",
      "motorcurrent 570796\n",
      "motorspeed 558108\n",
      "motortemp 362851\n",
      "rotorposition0 52801\n",
      "rotorposition1 52801\n",
      "rotorposition2 52801\n",
      "rotorposition3 52801\n",
      "rotorposition4 52801\n",
      "rotorspeed 415652\n",
      "sumcurrents 354296\n",
      "tcpressure 802716\n",
      "temp1 802716\n",
      "temp2 802716\n",
      "timestamp 1218368\n",
      "tmsactualtemp 354296\n",
      "unitsequence 1218368\n",
      "uppervalue 415652\n",
      "valvestate 540316\n",
      "yb 8555\n",
      "yh 8555\n",
      "z 68453\n"
     ]
    }
   ],
   "source": [
    "def print_not_null_counts():\n",
    "    all_cols = list(x.columns.values)\n",
    "    counts = {}\n",
    "    for col in all_cols:\n",
    "        counts[col] = x[x[col].notnull()].shape[0]\n",
    "    for col, val in sorted(counts.items()):\n",
    "        print(col, counts[col])\n",
    "        \n",
    "print_not_null_counts()"
   ]
  }
 ],
 "metadata": {
  "kernelspec": {
   "display_name": "Python 3",
   "language": "python",
   "name": "python3"
  },
  "language_info": {
   "codemirror_mode": {
    "name": "ipython",
    "version": 3
   },
   "file_extension": ".py",
   "mimetype": "text/x-python",
   "name": "python",
   "nbconvert_exporter": "python",
   "pygments_lexer": "ipython3",
   "version": "3.6.5"
  }
 },
 "nbformat": 4,
 "nbformat_minor": 2
}
