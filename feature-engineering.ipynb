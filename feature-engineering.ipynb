{
 "cells": [
  {
   "cell_type": "markdown",
   "metadata": {},
   "source": [
    "# Cryogenic Pump Feature Engineering\n",
    "Jared Nielsen"
   ]
  },
  {
   "cell_type": "code",
   "execution_count": 45,
   "metadata": {},
   "outputs": [],
   "source": [
    "from datetime import datetime\n",
    "from matplotlib import pyplot as plt\n",
    "import numpy as np\n",
    "import pandas as pd\n",
    "import scipy\n",
    "from scipy import stats\n",
    "import seaborn as sns\n",
    "import sys\n",
    "\n",
    "plt.rcParams['figure.figsize'] = 15,3\n",
    "blue = '#1f77b4'\n",
    "pd.set_option('precision', 2)"
   ]
  },
  {
   "cell_type": "markdown",
   "metadata": {},
   "source": [
    "## Load the Cleaned Data"
   ]
  },
  {
   "cell_type": "code",
   "execution_count": 29,
   "metadata": {},
   "outputs": [
    {
     "name": "stdout",
     "output_type": "stream",
     "text": [
      "Cryos Shape: (2005273, 8)\n",
      "Time: 1.980695\n",
      "Turbos Shape: (409653, 8)\n",
      "Time: 0.435867\n"
     ]
    }
   ],
   "source": [
    "cryo_csv = 'cryos_cleaned.csv'\n",
    "turbo_csv = 'turbos_cleaned.csv'\n",
    "\n",
    "start = datetime.now()\n",
    "x_cryo = pd.read_csv(cryo_csv, parse_dates=['timestamp'])\n",
    "elapsed = (datetime.now() - start).total_seconds()\n",
    "\n",
    "print(\"Cryos Shape: {}\".format(x_cryo.shape))\n",
    "print(\"Time: {}\".format(elapsed))\n",
    "\n",
    "start = datetime.now()\n",
    "x_turbo = pd.read_csv(turbo_csv, parse_dates=['timestamp'])\n",
    "elapsed = (datetime.now() - start).total_seconds()\n",
    "\n",
    "print(\"Turbos Shape: {}\".format(x_turbo.shape))\n",
    "print(\"Time: {}\".format(elapsed))"
   ]
  },
  {
   "cell_type": "markdown",
   "metadata": {},
   "source": [
    "## Samples"
   ]
  },
  {
   "cell_type": "code",
   "execution_count": 3,
   "metadata": {},
   "outputs": [
    {
     "data": {
      "text/html": [
       "<div>\n",
       "<style scoped>\n",
       "    .dataframe tbody tr th:only-of-type {\n",
       "        vertical-align: middle;\n",
       "    }\n",
       "\n",
       "    .dataframe tbody tr th {\n",
       "        vertical-align: top;\n",
       "    }\n",
       "\n",
       "    .dataframe thead th {\n",
       "        text-align: right;\n",
       "    }\n",
       "</style>\n",
       "<table border=\"1\" class=\"dataframe\">\n",
       "  <thead>\n",
       "    <tr style=\"text-align: right;\">\n",
       "      <th></th>\n",
       "      <th>unitsequence</th>\n",
       "      <th>timestamp</th>\n",
       "      <th>temp1</th>\n",
       "      <th>temp2</th>\n",
       "      <th>heater1</th>\n",
       "      <th>heater2</th>\n",
       "      <th>tcpressure</th>\n",
       "      <th>currentregen</th>\n",
       "    </tr>\n",
       "  </thead>\n",
       "  <tbody>\n",
       "    <tr>\n",
       "      <th>0</th>\n",
       "      <td>17340010</td>\n",
       "      <td>2018-04-10 19:25:00</td>\n",
       "      <td>65.0</td>\n",
       "      <td>13.5</td>\n",
       "      <td>0.0</td>\n",
       "      <td>1.0</td>\n",
       "      <td>0.4</td>\n",
       "      <td>P</td>\n",
       "    </tr>\n",
       "    <tr>\n",
       "      <th>1</th>\n",
       "      <td>17340010</td>\n",
       "      <td>2018-04-10 19:26:00</td>\n",
       "      <td>64.9</td>\n",
       "      <td>13.5</td>\n",
       "      <td>0.0</td>\n",
       "      <td>1.0</td>\n",
       "      <td>0.4</td>\n",
       "      <td>P</td>\n",
       "    </tr>\n",
       "    <tr>\n",
       "      <th>2</th>\n",
       "      <td>17340010</td>\n",
       "      <td>2018-04-10 19:27:00</td>\n",
       "      <td>65.0</td>\n",
       "      <td>13.5</td>\n",
       "      <td>0.0</td>\n",
       "      <td>1.0</td>\n",
       "      <td>0.4</td>\n",
       "      <td>P</td>\n",
       "    </tr>\n",
       "    <tr>\n",
       "      <th>3</th>\n",
       "      <td>17340010</td>\n",
       "      <td>2018-04-10 19:28:00</td>\n",
       "      <td>65.0</td>\n",
       "      <td>13.5</td>\n",
       "      <td>0.0</td>\n",
       "      <td>1.0</td>\n",
       "      <td>0.4</td>\n",
       "      <td>P</td>\n",
       "    </tr>\n",
       "    <tr>\n",
       "      <th>4</th>\n",
       "      <td>17340010</td>\n",
       "      <td>2018-04-10 19:29:00</td>\n",
       "      <td>64.9</td>\n",
       "      <td>13.5</td>\n",
       "      <td>0.0</td>\n",
       "      <td>1.0</td>\n",
       "      <td>0.4</td>\n",
       "      <td>P</td>\n",
       "    </tr>\n",
       "  </tbody>\n",
       "</table>\n",
       "</div>"
      ],
      "text/plain": [
       "   unitsequence            timestamp  temp1  temp2  heater1  heater2  \\\n",
       "0      17340010  2018-04-10 19:25:00   65.0   13.5      0.0      1.0   \n",
       "1      17340010  2018-04-10 19:26:00   64.9   13.5      0.0      1.0   \n",
       "2      17340010  2018-04-10 19:27:00   65.0   13.5      0.0      1.0   \n",
       "3      17340010  2018-04-10 19:28:00   65.0   13.5      0.0      1.0   \n",
       "4      17340010  2018-04-10 19:29:00   64.9   13.5      0.0      1.0   \n",
       "\n",
       "   tcpressure currentregen  \n",
       "0         0.4            P  \n",
       "1         0.4            P  \n",
       "2         0.4            P  \n",
       "3         0.4            P  \n",
       "4         0.4            P  "
      ]
     },
     "execution_count": 3,
     "metadata": {},
     "output_type": "execute_result"
    }
   ],
   "source": [
    "x_cryo.head()"
   ]
  },
  {
   "cell_type": "code",
   "execution_count": 4,
   "metadata": {},
   "outputs": [
    {
     "data": {
      "text/html": [
       "<div>\n",
       "<style scoped>\n",
       "    .dataframe tbody tr th:only-of-type {\n",
       "        vertical-align: middle;\n",
       "    }\n",
       "\n",
       "    .dataframe tbody tr th {\n",
       "        vertical-align: top;\n",
       "    }\n",
       "\n",
       "    .dataframe thead th {\n",
       "        text-align: right;\n",
       "    }\n",
       "</style>\n",
       "<table border=\"1\" class=\"dataframe\">\n",
       "  <thead>\n",
       "    <tr style=\"text-align: right;\">\n",
       "      <th></th>\n",
       "      <th>unitsequence</th>\n",
       "      <th>timestamp</th>\n",
       "      <th>uppervalue</th>\n",
       "      <th>lowervalue</th>\n",
       "      <th>rotorspeed</th>\n",
       "      <th>controllertemp</th>\n",
       "      <th>dcvoltage</th>\n",
       "      <th>motorcurrent</th>\n",
       "    </tr>\n",
       "  </thead>\n",
       "  <tbody>\n",
       "    <tr>\n",
       "      <th>0</th>\n",
       "      <td>16776830</td>\n",
       "      <td>2018-04-10 19:25:00</td>\n",
       "      <td>2.0</td>\n",
       "      <td>2.0</td>\n",
       "      <td>584.0</td>\n",
       "      <td>144.0</td>\n",
       "      <td>122.0</td>\n",
       "      <td>0.8</td>\n",
       "    </tr>\n",
       "    <tr>\n",
       "      <th>1</th>\n",
       "      <td>16776830</td>\n",
       "      <td>2018-04-10 19:26:00</td>\n",
       "      <td>2.0</td>\n",
       "      <td>2.0</td>\n",
       "      <td>584.0</td>\n",
       "      <td>144.0</td>\n",
       "      <td>122.0</td>\n",
       "      <td>0.8</td>\n",
       "    </tr>\n",
       "    <tr>\n",
       "      <th>2</th>\n",
       "      <td>16776830</td>\n",
       "      <td>2018-04-10 19:27:00</td>\n",
       "      <td>2.0</td>\n",
       "      <td>2.0</td>\n",
       "      <td>584.0</td>\n",
       "      <td>144.0</td>\n",
       "      <td>122.0</td>\n",
       "      <td>0.7</td>\n",
       "    </tr>\n",
       "    <tr>\n",
       "      <th>3</th>\n",
       "      <td>16776830</td>\n",
       "      <td>2018-04-10 19:28:00</td>\n",
       "      <td>2.0</td>\n",
       "      <td>2.0</td>\n",
       "      <td>584.0</td>\n",
       "      <td>143.0</td>\n",
       "      <td>123.0</td>\n",
       "      <td>0.8</td>\n",
       "    </tr>\n",
       "    <tr>\n",
       "      <th>4</th>\n",
       "      <td>16776830</td>\n",
       "      <td>2018-04-10 19:29:00</td>\n",
       "      <td>2.0</td>\n",
       "      <td>2.0</td>\n",
       "      <td>584.0</td>\n",
       "      <td>143.0</td>\n",
       "      <td>122.0</td>\n",
       "      <td>0.8</td>\n",
       "    </tr>\n",
       "  </tbody>\n",
       "</table>\n",
       "</div>"
      ],
      "text/plain": [
       "   unitsequence            timestamp  uppervalue  lowervalue  rotorspeed  \\\n",
       "0      16776830  2018-04-10 19:25:00         2.0         2.0       584.0   \n",
       "1      16776830  2018-04-10 19:26:00         2.0         2.0       584.0   \n",
       "2      16776830  2018-04-10 19:27:00         2.0         2.0       584.0   \n",
       "3      16776830  2018-04-10 19:28:00         2.0         2.0       584.0   \n",
       "4      16776830  2018-04-10 19:29:00         2.0         2.0       584.0   \n",
       "\n",
       "   controllertemp  dcvoltage  motorcurrent  \n",
       "0           144.0      122.0           0.8  \n",
       "1           144.0      122.0           0.8  \n",
       "2           144.0      122.0           0.7  \n",
       "3           143.0      123.0           0.8  \n",
       "4           143.0      122.0           0.8  "
      ]
     },
     "execution_count": 4,
     "metadata": {},
     "output_type": "execute_result"
    }
   ],
   "source": [
    "x_turbo.head()"
   ]
  },
  {
   "cell_type": "markdown",
   "metadata": {},
   "source": [
    "## Initial Visualization\n",
    "\n",
    "Experiments have shown that turbos have data with more variation than cryos, so we start our analysis by looking at turbo pumps.  \n",
    "\n",
    "Let's pick the turbo pump that has the longest-running interval and analyze it.  \n",
    "Try `unitsequence = 16775261`. This has `37,924` elements.  \n",
    "\n",
    "So there are correlations going on, though they're extremely obvious. Motor speed corresponds with motor temperature - who knew? There's a lot of feature engineering to be done here, but the data is clean and ready.  "
   ]
  },
  {
   "cell_type": "code",
   "execution_count": null,
   "metadata": {},
   "outputs": [],
   "source": []
  },
  {
   "cell_type": "code",
   "execution_count": 8,
   "metadata": {},
   "outputs": [],
   "source": [
    "def get_unitsequences(x_subset):\n",
    "    return x_subset['unitsequence'].unique()\n",
    "\n",
    "def get_pump(x_subset, unitsequence):\n",
    "    return x_subset[x_subset['unitsequence'] == unitsequence]\n",
    "\n",
    "def get_intervals(x_pump):\n",
    "    \"\"\"\n",
    "    Parameters:\n",
    "        x_pump (DataFrame): output of get_pump().\n",
    "    Returns:\n",
    "        intervals (list(DataFrame)): the DataFrame intervals, ordered by time.\n",
    "    \"\"\"\n",
    "    x_pump_sorted = x_pump.sort_values(\"timestamp\").copy()\n",
    "    interval_desc = (x_pump_sorted[\"timestamp\"].diff() > pd.Timedelta(minutes=30)).cumsum()\n",
    "    intervals = [v for k,v in x_pump_sorted.groupby(interval_desc)]\n",
    "    return intervals\n",
    "\n",
    "def plot_interval(interval, val_names, title=None):\n",
    "    interval.plot(x='timestamp', y=val_names,\n",
    "                subplots=True, layout=(2,2), marker='o', linestyle='None', color=blue,\n",
    "                markersize=3, figsize=(20,10))\n",
    "    if title:\n",
    "        plt.suptitle(title)\n",
    "    plt.show()"
   ]
  },
  {
   "cell_type": "code",
   "execution_count": 31,
   "metadata": {},
   "outputs": [
    {
     "name": "stdout",
     "output_type": "stream",
     "text": [
      "['unitsequence', 'timestamp', 'uppervalue', 'lowervalue', 'rotorspeed', 'controllertemp', 'dcvoltage', 'motorcurrent']\n",
      "[16776830 16775765 16775766 17337958 16776829 17337419 17337512 16775261\n",
      " 17339051 16776263 16776262]\n"
     ]
    },
    {
     "data": {
      "text/html": [
       "<div>\n",
       "<style scoped>\n",
       "    .dataframe tbody tr th:only-of-type {\n",
       "        vertical-align: middle;\n",
       "    }\n",
       "\n",
       "    .dataframe tbody tr th {\n",
       "        vertical-align: top;\n",
       "    }\n",
       "\n",
       "    .dataframe thead th {\n",
       "        text-align: right;\n",
       "    }\n",
       "</style>\n",
       "<table border=\"1\" class=\"dataframe\">\n",
       "  <thead>\n",
       "    <tr style=\"text-align: right;\">\n",
       "      <th></th>\n",
       "      <th>unitsequence</th>\n",
       "      <th>timestamp</th>\n",
       "      <th>uppervalue</th>\n",
       "      <th>lowervalue</th>\n",
       "      <th>rotorspeed</th>\n",
       "      <th>controllertemp</th>\n",
       "      <th>dcvoltage</th>\n",
       "      <th>motorcurrent</th>\n",
       "    </tr>\n",
       "  </thead>\n",
       "  <tbody>\n",
       "    <tr>\n",
       "      <th>1914</th>\n",
       "      <td>16775261</td>\n",
       "      <td>2018-04-10 19:25:00</td>\n",
       "      <td>2.0</td>\n",
       "      <td>13.0</td>\n",
       "      <td>550.0</td>\n",
       "      <td>147.0</td>\n",
       "      <td>122.0</td>\n",
       "      <td>0.5</td>\n",
       "    </tr>\n",
       "    <tr>\n",
       "      <th>1915</th>\n",
       "      <td>16775261</td>\n",
       "      <td>2018-04-10 19:26:00</td>\n",
       "      <td>2.0</td>\n",
       "      <td>13.0</td>\n",
       "      <td>545.0</td>\n",
       "      <td>147.0</td>\n",
       "      <td>122.0</td>\n",
       "      <td>0.5</td>\n",
       "    </tr>\n",
       "    <tr>\n",
       "      <th>1916</th>\n",
       "      <td>16775261</td>\n",
       "      <td>2018-04-10 19:27:00</td>\n",
       "      <td>2.0</td>\n",
       "      <td>13.0</td>\n",
       "      <td>545.0</td>\n",
       "      <td>147.0</td>\n",
       "      <td>122.0</td>\n",
       "      <td>0.5</td>\n",
       "    </tr>\n",
       "    <tr>\n",
       "      <th>1917</th>\n",
       "      <td>16775261</td>\n",
       "      <td>2018-04-10 19:28:00</td>\n",
       "      <td>2.0</td>\n",
       "      <td>13.0</td>\n",
       "      <td>545.0</td>\n",
       "      <td>148.0</td>\n",
       "      <td>122.0</td>\n",
       "      <td>0.5</td>\n",
       "    </tr>\n",
       "    <tr>\n",
       "      <th>1918</th>\n",
       "      <td>16775261</td>\n",
       "      <td>2018-04-10 19:29:00</td>\n",
       "      <td>2.0</td>\n",
       "      <td>13.0</td>\n",
       "      <td>545.0</td>\n",
       "      <td>147.0</td>\n",
       "      <td>122.0</td>\n",
       "      <td>0.5</td>\n",
       "    </tr>\n",
       "  </tbody>\n",
       "</table>\n",
       "</div>"
      ],
      "text/plain": [
       "      unitsequence           timestamp  uppervalue  lowervalue  rotorspeed  \\\n",
       "1914      16775261 2018-04-10 19:25:00         2.0        13.0       550.0   \n",
       "1915      16775261 2018-04-10 19:26:00         2.0        13.0       545.0   \n",
       "1916      16775261 2018-04-10 19:27:00         2.0        13.0       545.0   \n",
       "1917      16775261 2018-04-10 19:28:00         2.0        13.0       545.0   \n",
       "1918      16775261 2018-04-10 19:29:00         2.0        13.0       545.0   \n",
       "\n",
       "      controllertemp  dcvoltage  motorcurrent  \n",
       "1914           147.0      122.0           0.5  \n",
       "1915           147.0      122.0           0.5  \n",
       "1916           147.0      122.0           0.5  \n",
       "1917           148.0      122.0           0.5  \n",
       "1918           147.0      122.0           0.5  "
      ]
     },
     "execution_count": 31,
     "metadata": {},
     "output_type": "execute_result"
    }
   ],
   "source": [
    "turbo_cols = list(x_turbo)\n",
    "print(turbo_cols)\n",
    "us = 16775261 # turbo unit_sequence\n",
    "unique_us = get_unitsequences(x_turbo)\n",
    "print(unique_us)\n",
    "\n",
    "pump = x_turbo[x_turbo['unitsequence'] == us] # single turbo pump\n",
    "pump.head()"
   ]
  },
  {
   "cell_type": "code",
   "execution_count": 21,
   "metadata": {},
   "outputs": [
    {
     "name": "stdout",
     "output_type": "stream",
     "text": [
      "ms: (8892, 8)\n"
     ]
    },
    {
     "data": {
      "image/png": "[encoded data removed]",
      "text/plain": [
       "<Figure size 1080x72 with 1 Axes>"
      ]
     },
     "metadata": {},
     "output_type": "display_data"
    }
   ],
   "source": [
    "def plot_over_time(t, y, desc):\n",
    "    fig = plt.figure(figsize=(15,1))\n",
    "    ax = fig.add_subplot(111)\n",
    "    ax.plot(t, y, 'o')\n",
    "    ax.set_xlabel(\"Time\")\n",
    "    ax.set_ylabel(desc)\n",
    "    ax.set_title(desc)\n",
    "    plt.show()\n",
    "\n",
    "def time_slice(m):\n",
    "    dt1 = '2018-05-01 00:00:00'\n",
    "#     dt2 = '2018-06-27 06:00:00'\n",
    "    ms = m[(dt1 <= m['timestamp'])] #& (m['timestamp'] < dt2)]\n",
    "    print(\"ms:\", ms.shape)  \n",
    "    return ms\n",
    "    \n",
    "n_timesteps, n_cols = pump.shape\n",
    "pump_slice = time_slice(pump)\n",
    "pump_slice = pump\n",
    "t = pump_slice[\"timestamp\"].values\n",
    "cols = [\"motorspeed\"]\n",
    "\n",
    "n = 100\n",
    "turbo_cols = [\"rotorspeed\"]\n",
    "for col in turbo_cols:\n",
    "    plot_over_time(t[:n], pump_slice[col].values[:n], col)"
   ]
  },
  {
   "cell_type": "markdown",
   "metadata": {},
   "source": [
    "## Clustering Algorithm (Feature Engineering)\n",
    "\n",
    "We look for time discontinuities greater than 30 minutes and separate into intervals based on that.  "
   ]
  },
  {
   "cell_type": "code",
   "execution_count": 42,
   "metadata": {},
   "outputs": [
    {
     "name": "stdout",
     "output_type": "stream",
     "text": [
      "All the clusters for unit_sequence 16775261\n",
      "No. Clusters: 2\n"
     ]
    },
    {
     "data": {
      "image/png": "[encoded data removed]",
      "text/plain": [
       "<Figure size 1080x216 with 4 Axes>"
      ]
     },
     "metadata": {},
     "output_type": "display_data"
    },
    {
     "data": {
      "image/png": "[encoded data removed]",
      "text/plain": [
       "<Figure size 1080x216 with 4 Axes>"
      ]
     },
     "metadata": {},
     "output_type": "display_data"
    },
    {
     "name": "stdout",
     "output_type": "stream",
     "text": [
      "done\n"
     ]
    }
   ],
   "source": [
    "def get_clusters(df, unit_sequence_id):\n",
    "    \"\"\"\n",
    "    Parameters:\n",
    "        unit_sequence_id (int): the id of the pump (fx -18202).\n",
    "        # col_name (str): the column to extract data for (fx \"controllertemp\")\n",
    "    Returns:\n",
    "        clusters (list(DataFrame)): the DataFrame clusters, ordered by time.\n",
    "    \"\"\"\n",
    "    dfc = df[df[\"unitsequence\"] == unit_sequence_id].sort_values(\"timestamp\").copy()\n",
    "    cluster = (dfc[\"timestamp\"].diff() > pd.Timedelta(minutes=30)).cumsum()\n",
    "    dfc = [v for k,v in dfc.groupby(cluster)]\n",
    "    return dfc\n",
    "\n",
    "def plot_cluster(cluster, col_names, title=None):\n",
    "    cluster.plot(y=col_names,\n",
    "                subplots=True, layout=(2,2), marker='o', linestyle='None', color=blue,\n",
    "                markersize=1)\n",
    "    if title:\n",
    "        plt.suptitle(title)\n",
    "    plt.show()\n",
    "    \n",
    "def plot_cluster_magnets(cluster, title=None):\n",
    "    magcurrents = [\"magcurrent{}\".format(i) for i in range(9)]\n",
    "    cluster.plot(y=magcurrents,\n",
    "                subplots=True, layout=(3,3), marker='o', linestyle='None', color=blue,\n",
    "                markersize=1, figsize=(10,10))\n",
    "    if title:\n",
    "        plt.suptitle(title)\n",
    "    plt.show()\n",
    "\n",
    "clusters = get_clusters(pump, us)\n",
    "col_names = [\"rotorspeed\", \"controllertemp\", \"dcvoltage\", \"motorcurrent\"]\n",
    "print(\"All the clusters for unit_sequence {}\".format(us))\n",
    "print(\"No. Clusters:\", len(clusters))\n",
    "for i, cluster in enumerate(clusters):\n",
    "    plot_cluster(cluster, col_names=col_names, title=\"Cluster {}\".format(i+1))\n",
    "    if i == 1:\n",
    "        break\n",
    "        \n",
    "print(\"done\")"
   ]
  },
  {
   "cell_type": "markdown",
   "metadata": {},
   "source": [
    "## Linear Regression\n",
    "\n",
    "Clearly the slopes are all zero. However, the intercepts appear to vary, for example with `rotorspeed`.  \n",
    "This signifies that `rotorspeed` may be an important feature in unsupervised clustering.  "
   ]
  },
  {
   "cell_type": "code",
   "execution_count": 55,
   "metadata": {},
   "outputs": [
    {
     "name": "stdout",
     "output_type": "stream",
     "text": [
      "Cluster 0\n",
      "rotorspeed - Slope: -0.000, Intercept: 541.071\n",
      "controllertemp - Slope: -0.000, Intercept: 151.051\n",
      "dcvoltage - Slope: 0.000, Intercept: 122.002\n",
      "motorcurrent - Slope: 0.000, Intercept: 0.495\n",
      "\n",
      "Cluster 1\n",
      "rotorspeed - Slope: 0.003, Intercept: 495.569\n",
      "controllertemp - Slope: -0.000, Intercept: 151.882\n",
      "dcvoltage - Slope: -0.000, Intercept: 122.009\n",
      "motorcurrent - Slope: 0.000, Intercept: 0.487\n",
      "\n"
     ]
    }
   ],
   "source": [
    "col_names = [\"rotorspeed\", \"controllertemp\", \"dcvoltage\", \"motorcurrent\"]\n",
    "for i, cluster in enumerate(clusters):\n",
    "    print(\"Cluster {}\".format(i))\n",
    "    t = np.arange(len(cluster))\n",
    "    for col in col_names:\n",
    "        slope, intercept, _, _, _ = stats.linregress(t, cluster[col])\n",
    "        print(\"{} - Slope: {:.3f}, Intercept: {:.3f}\".format(col, slope, intercept))\n",
    "    print()"
   ]
  }
 ],
 "metadata": {
  "kernelspec": {
   "display_name": "Python 3",
   "language": "python",
   "name": "python3"
  },
  "language_info": {
   "codemirror_mode": {
    "name": "ipython",
    "version": 3
   },
   "file_extension": ".py",
   "mimetype": "text/x-python",
   "name": "python",
   "nbconvert_exporter": "python",
   "pygments_lexer": "ipython3",
   "version": "3.6.5"
  }
 },
 "nbformat": 4,
 "nbformat_minor": 2
}
