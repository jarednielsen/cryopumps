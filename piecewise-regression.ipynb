{
 "cells": [
  {
   "cell_type": "code",
   "execution_count": 1,
   "metadata": {},
   "outputs": [
    {
     "data": {
      "text/plain": [
       "<Figure size 800x500 with 1 Axes>"
      ]
     },
     "metadata": {},
     "output_type": "display_data"
    }
   ],
   "source": [
    "import numpy as np\n",
    "import matplotlib.pyplot as plt\n",
    "import warnings\n",
    "\n",
    "warnings.filterwarnings('ignore')\n",
    "\n",
    "# Generate a short time series. \n",
    "t = np.arange(25) \n",
    "v = np.abs(t-7) + np.random.normal(0, 2, len(t)) \n",
    "\n",
    "fig, ax = plt.subplots(1, 1, figsize=(8,5))\n",
    "ax.plot(t, v, 'o')\n",
    "plt.show()\n",
    "\n",
    "# Fit a piecewise regression, and plot the result. \n",
    "# plot_data_with_regression(t, v)\n"
   ]
  },
  {
   "cell_type": "code",
   "execution_count": 6,
   "metadata": {},
   "outputs": [
    {
     "name": "stdout",
     "output_type": "stream",
     "text": [
      "Num segments: 4\n"
     ]
    },
    {
     "data": {
      "image/png": "[encoded data removed]",
      "text/plain": [
       "<Figure size 432x288 with 1 Axes>"
      ]
     },
     "metadata": {},
     "output_type": "display_data"
    }
   ],
   "source": [
    "from piecewise import regressor, plotter\n",
    "\n",
    "model = regressor.piecewise(t, v)\n",
    "plotter.plot_data_with_regression(t, v, min_stop_frac=0.03, min_segments=3)"
   ]
  },
  {
   "cell_type": "code",
   "execution_count": 3,
   "metadata": {},
   "outputs": [
    {
     "name": "stdout",
     "output_type": "stream",
     "text": [
      "Num segments: 3\n"
     ]
    },
    {
     "data": {
      "image/png": "[encoded data removed]",
      "text/plain": [
       "<Figure size 432x288 with 1 Axes>"
      ]
     },
     "metadata": {},
     "output_type": "display_data"
    }
   ],
   "source": [
    "x = np.arange(0, 30)\n",
    "y = np.zeros_like(x)\n",
    "y[:10] = 10\n",
    "y[10:20] = 20\n",
    "y[20:30] = 30\n",
    "\n",
    "plotter.plot_data_with_regression(x, y, min_stop_frac=0.3)"
   ]
  },
  {
   "cell_type": "code",
   "execution_count": 4,
   "metadata": {},
   "outputs": [
    {
     "data": {
      "text/plain": [
       "[Segment(start_index=0, end_index=1, coeffs=(10.0, 0.0), error=0.0),\n",
       " Segment(start_index=1, end_index=3, coeffs=(9.999999999999996, 3.2404931242868588e-16), error=0.0),\n",
       " Segment(start_index=3, end_index=5, coeffs=(9.999999999999996, -1.9467593423126494e-16), error=0.0),\n",
       " Segment(start_index=5, end_index=7, coeffs=(9.999999999999998, -5.901004277873916e-17), error=0.0),\n",
       " Segment(start_index=7, end_index=10, coeffs=(10.000000000000004, -1.38636514423515e-16), error=0.0),\n",
       " Segment(start_index=10, end_index=11, coeffs=(0.19801980198019797, 1.9801980198019804), error=0.0),\n",
       " Segment(start_index=11, end_index=13, coeffs=(19.999999999999993, 4.1390833258570467e-16), error=0.0),\n",
       " Segment(start_index=13, end_index=15, coeffs=(20.0, -9.268069022593494e-17), error=0.0),\n",
       " Segment(start_index=15, end_index=17, coeffs=(19.999999999999993, 5.2363844632051756e-17), error=0.0),\n",
       " Segment(start_index=17, end_index=20, coeffs=(20.000000000000004, 1.5754481372549006e-16), error=0.0),\n",
       " Segment(start_index=20, end_index=21, coeffs=(0.0748129675810476, 1.496259351620948), error=0.0),\n",
       " Segment(start_index=21, end_index=23, coeffs=(29.99999999999988, 5.096803257069435e-15), error=0.0),\n",
       " Segment(start_index=23, end_index=25, coeffs=(29.99999999999987, 4.4912194879160714e-15), error=0.0),\n",
       " Segment(start_index=25, end_index=27, coeffs=(29.999999999999865, 4.808258062840774e-15), error=0.0),\n",
       " Segment(start_index=27, end_index=30, coeffs=(30.0, 1.1649673668701604e-16), error=0.0)]"
      ]
     },
     "execution_count": 4,
     "metadata": {},
     "output_type": "execute_result"
    }
   ],
   "source": [
    "regressor._get_initial_segments(x, y)"
   ]
  }
 ],
 "metadata": {
  "kernelspec": {
   "display_name": "Python 3",
   "language": "python",
   "name": "python3"
  },
  "language_info": {
   "codemirror_mode": {
    "name": "ipython",
    "version": 3
   },
   "file_extension": ".py",
   "mimetype": "text/x-python",
   "name": "python",
   "nbconvert_exporter": "python",
   "pygments_lexer": "ipython3",
   "version": "3.6.7"
  }
 },
 "nbformat": 4,
 "nbformat_minor": 2
}
